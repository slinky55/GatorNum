{
 "cells": [
  {
   "cell_type": "code",
   "execution_count": 12,
   "outputs": [],
   "source": [
    "import matplotlib.pyplot as plt\n",
    "\n",
    "def draw_number(pixels):\n",
    "    plt.figure()\n",
    "    plt.imshow(pixels)\n",
    "    plt.colorbar()\n",
    "    plt.grid(False)\n",
    "    plt.show()\n",
    "    \n",
    "def load_emnist(key_path):\n",
    "    import os\n",
    "    if not os.path.isfile(\"~/.kaggle/kaggle.json\"):\n",
    "        !mv {key_path} ~/.kaggle/kaggle.json\n",
    "        !chmod 600 ~/.kaggle/kaggle.json\n",
    "        !pip install kaggle\n",
    "        !kaggle datasets download -d crawford/emnist -p data\n",
    "        \n",
    "        import zipfile\n",
    "        with zipfile.ZipFile(\"data/emnist.zip\", 'r') as zip_ref:\n",
    "            zip_ref.extractall(\"data/emnist\")"
   ],
   "metadata": {
    "collapsed": false,
    "ExecuteTime": {
     "end_time": "2023-10-30T03:14:17.327020294Z",
     "start_time": "2023-10-30T03:14:17.284312603Z"
    }
   },
   "id": "16f412fd2ad81ff4"
  },
  {
   "cell_type": "code",
   "execution_count": 13,
   "outputs": [
    {
     "name": "stdout",
     "output_type": "stream",
     "text": [
      "mv: cannot stat 'kaggle.json': No such file or directory\r\n",
      "Requirement already satisfied: kaggle in /home/slinky/anaconda3/envs/GatorNum/lib/python3.8/site-packages (1.5.16)\r\n",
      "Requirement already satisfied: six>=1.10 in /home/slinky/anaconda3/envs/GatorNum/lib/python3.8/site-packages (from kaggle) (1.16.0)\r\n",
      "Requirement already satisfied: certifi in /home/slinky/anaconda3/envs/GatorNum/lib/python3.8/site-packages (from kaggle) (2023.7.22)\r\n",
      "Requirement already satisfied: python-dateutil in /home/slinky/anaconda3/envs/GatorNum/lib/python3.8/site-packages (from kaggle) (2.8.2)\r\n",
      "Requirement already satisfied: requests in /home/slinky/anaconda3/envs/GatorNum/lib/python3.8/site-packages (from kaggle) (2.31.0)\r\n",
      "Requirement already satisfied: tqdm in /home/slinky/anaconda3/envs/GatorNum/lib/python3.8/site-packages (from kaggle) (4.66.1)\r\n",
      "Requirement already satisfied: python-slugify in /home/slinky/anaconda3/envs/GatorNum/lib/python3.8/site-packages (from kaggle) (8.0.1)\r\n",
      "Requirement already satisfied: urllib3 in /home/slinky/anaconda3/envs/GatorNum/lib/python3.8/site-packages (from kaggle) (1.26.18)\r\n",
      "Requirement already satisfied: bleach in /home/slinky/anaconda3/envs/GatorNum/lib/python3.8/site-packages (from kaggle) (4.1.0)\r\n",
      "Requirement already satisfied: packaging in /home/slinky/anaconda3/envs/GatorNum/lib/python3.8/site-packages (from bleach->kaggle) (23.1)\r\n",
      "Requirement already satisfied: webencodings in /home/slinky/anaconda3/envs/GatorNum/lib/python3.8/site-packages (from bleach->kaggle) (0.5.1)\r\n",
      "Requirement already satisfied: text-unidecode>=1.3 in /home/slinky/anaconda3/envs/GatorNum/lib/python3.8/site-packages (from python-slugify->kaggle) (1.3)\r\n",
      "Requirement already satisfied: charset-normalizer<4,>=2 in /home/slinky/anaconda3/envs/GatorNum/lib/python3.8/site-packages (from requests->kaggle) (2.0.4)\r\n",
      "Requirement already satisfied: idna<4,>=2.5 in /home/slinky/anaconda3/envs/GatorNum/lib/python3.8/site-packages (from requests->kaggle) (3.4)\r\n",
      "emnist.zip: Skipping, found more recently modified local copy (use --force to force download)\r\n"
     ]
    }
   ],
   "source": [
    "load_emnist(\"kaggle.json\")"
   ],
   "metadata": {
    "collapsed": false,
    "ExecuteTime": {
     "end_time": "2023-10-30T03:14:40.026900248Z",
     "start_time": "2023-10-30T03:14:23.504870288Z"
    }
   },
   "id": "d82229eb669cf2f5"
  },
  {
   "cell_type": "code",
   "execution_count": 3,
   "outputs": [
    {
     "name": "stdout",
     "output_type": "stream",
     "text": [
      "Epoch 1/9\n",
      "1875/1875 [==============================] - 1s 450us/step - loss: 1.5705 - accuracy: 0.9065\n",
      "Epoch 2/9\n",
      "1875/1875 [==============================] - 1s 452us/step - loss: 1.5150 - accuracy: 0.9506\n",
      "Epoch 3/9\n",
      "1875/1875 [==============================] - 1s 446us/step - loss: 1.5016 - accuracy: 0.9633\n",
      "Epoch 4/9\n",
      "1875/1875 [==============================] - 1s 449us/step - loss: 1.4946 - accuracy: 0.9692\n",
      "Epoch 5/9\n",
      "1875/1875 [==============================] - 1s 447us/step - loss: 1.4889 - accuracy: 0.9745\n",
      "Epoch 6/9\n",
      "1875/1875 [==============================] - 1s 449us/step - loss: 1.4851 - accuracy: 0.9783\n",
      "Epoch 7/9\n",
      "1875/1875 [==============================] - 1s 451us/step - loss: 1.4827 - accuracy: 0.9805\n",
      "Epoch 8/9\n",
      "1875/1875 [==============================] - 1s 445us/step - loss: 1.4802 - accuracy: 0.9827\n",
      "Epoch 9/9\n",
      "1875/1875 [==============================] - 1s 447us/step - loss: 1.4783 - accuracy: 0.9845\n",
      "313/313 - 0s - loss: 1.4896 - accuracy: 0.9734 - 101ms/epoch - 323us/step\n",
      "\n",
      "Test accuracy: 0.9733999967575073\n"
     ]
    }
   ],
   "source": [
    "import tensorflow as tf\n",
    "\n",
    "mnist_raw = tf.keras.datasets.mnist\n",
    "\n",
    "(x_train, y_train), (x_test, y_test) = mnist_raw.load_data()\n",
    "\n",
    "label_names = [\"0\", \"1\", \"2\", \"3\", \"4\", \"5\", \"6\", \"7\", \"8\", \"9\"]\n",
    "\n",
    "x_train = x_train / 255.0\n",
    "x_test = x_test / 255.0\n",
    "\n",
    "model = tf.keras.Sequential([\n",
    "    tf.keras.layers.Flatten(input_shape=(28, 28)),\n",
    "    tf.keras.layers.Dense(128, activation='relu'),\n",
    "    tf.keras.layers.Dense(10),\n",
    "    tf.keras.layers.Softmax(),\n",
    "])\n",
    "\n",
    "model.compile(optimizer='adam',\n",
    "              loss=tf.keras.losses.SparseCategoricalCrossentropy(from_logits=True),\n",
    "              metrics=['accuracy'])\n",
    "\n",
    "model.fit(x_train, y_train, epochs=9)\n",
    "\n",
    "_, test_acc = model.evaluate(x_test,  y_test, verbose=2)\n",
    "\n",
    "print('\\nTest accuracy:', test_acc)"
   ],
   "metadata": {
    "collapsed": false,
    "ExecuteTime": {
     "end_time": "2023-10-30T02:02:30.071549554Z",
     "start_time": "2023-10-30T02:02:22.011151388Z"
    }
   },
   "id": "5b677bf0cf4e1cd4"
  },
  {
   "cell_type": "code",
   "execution_count": null,
   "outputs": [],
   "source": [],
   "metadata": {
    "collapsed": false
   },
   "id": "7b3c995089f2a788"
  }
 ],
 "metadata": {
  "kernelspec": {
   "display_name": "Python 3",
   "language": "python",
   "name": "python3"
  },
  "language_info": {
   "codemirror_mode": {
    "name": "ipython",
    "version": 2
   },
   "file_extension": ".py",
   "mimetype": "text/x-python",
   "name": "python",
   "nbconvert_exporter": "python",
   "pygments_lexer": "ipython2",
   "version": "2.7.6"
  }
 },
 "nbformat": 4,
 "nbformat_minor": 5
}
