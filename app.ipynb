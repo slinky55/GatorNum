{
 "cells": [
  {
   "cell_type": "code",
   "execution_count": null,
   "id": "initial_id",
   "metadata": {
    "collapsed": true
   },
   "outputs": [],
   "source": [
    "import PyPDF2\n",
    "import numpy as np\n",
    "from pdf2image import convert_from_path\n",
    "import cv2 as cv"
   ]
  },
  {
   "cell_type": "code",
   "execution_count": null,
   "outputs": [],
   "source": [
    "pdf_path = \"test.pdf\"\n",
    "pages = convert_from_path(pdf_path, dpi=300)\n",
    "\n",
    "for num, page in enumerate(pages):\n",
    "    img = cv.cvtColor(np.array(page), cv.COLOR_RGB2BGR)\n",
    "    cv.imshow(\"Page \" + num, img)"
   ],
   "metadata": {
    "collapsed": false
   },
   "id": "c6b4f05a9370f25b"
  }
 ],
 "metadata": {
  "kernelspec": {
   "display_name": "Python 3",
   "language": "python",
   "name": "python3"
  },
  "language_info": {
   "codemirror_mode": {
    "name": "ipython",
    "version": 2
   },
   "file_extension": ".py",
   "mimetype": "text/x-python",
   "name": "python",
   "nbconvert_exporter": "python",
   "pygments_lexer": "ipython2",
   "version": "2.7.6"
  }
 },
 "nbformat": 4,
 "nbformat_minor": 5
}
